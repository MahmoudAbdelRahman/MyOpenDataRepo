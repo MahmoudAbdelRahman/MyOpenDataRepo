{
 "cells": [
  {
   "cell_type": "markdown",
   "metadata": {},
   "source": [
    "# Mutli-Dimensional Trajecoty Kalman Filtering. \n",
    "Tutorial by : Mahmoud Ouf. | \n",
    "arch.mahmoud.ouf111[at]gmail.com | \n",
    "[GitHub](https://github.com/MahmoudAbdelRahman)\n",
    "\n",
    "# 1.Basic flow :\n",
    "![](im/kalmanFilter_illustration.png)\n",
    "Figure adapted from online tutorial : https://www.youtube.com/watch?v=Fuy73n6_bBc&list=PLX2gX-ftPVXU3oUFNATxGXY90AULiqnWT&index=27\n"
   ]
  },
  {
   "cell_type": "code",
   "execution_count": 276,
   "metadata": {},
   "outputs": [],
   "source": [
    "#$P_0$ is the Process error in the Process covrariance matrix, the initial value of this matrix is first assumed. then it its finetuned each iteration."
   ]
  },
  {
   "cell_type": "markdown",
   "metadata": {},
   "source": [
    "#### Import the important libraries"
   ]
  },
  {
   "cell_type": "code",
   "execution_count": 1,
   "metadata": {},
   "outputs": [],
   "source": [
    "import numpy as np \n",
    "import matplotlib.pyplot as plt\n",
    "import math\n",
    "import pandas as pd"
   ]
  },
  {
   "cell_type": "markdown",
   "metadata": {},
   "source": [
    "# 2. Intital conditions and datasources. \n",
    "First lets load the dataset of a moving [Projectile](https://en.wikipedia.org/wiki/Projectile_motion) object. \n",
    "Source files are located in `.\\df.csv`, it consists of the following data : \n",
    "`'X_groundTruth', 'Y_groundTruth', 'X_measured', 'Y_measured', 'Vx','Vy', 'X_error', 'Y_error'` as shown in the following figure. \n",
    "\n",
    "![](im/01_Projectile.gif)"
   ]
  },
  {
   "cell_type": "code",
   "execution_count": 2,
   "metadata": {},
   "outputs": [
    {
     "name": "stdout",
     "output_type": "stream",
     "text": [
      "Index(['X_groundTruth', 'Y_groundTruth', 'X_measured', 'Y_measured', 'Vx',\n",
      "       'Vy', 'X_error', 'Y_error'],\n",
      "      dtype='object')\n"
     ]
    },
    {
     "data": {
      "text/html": [
       "<div>\n",
       "<style scoped>\n",
       "    .dataframe tbody tr th:only-of-type {\n",
       "        vertical-align: middle;\n",
       "    }\n",
       "\n",
       "    .dataframe tbody tr th {\n",
       "        vertical-align: top;\n",
       "    }\n",
       "\n",
       "    .dataframe thead th {\n",
       "        text-align: right;\n",
       "    }\n",
       "</style>\n",
       "<table border=\"1\" class=\"dataframe\">\n",
       "  <thead>\n",
       "    <tr style=\"text-align: right;\">\n",
       "      <th></th>\n",
       "      <th>X_groundTruth</th>\n",
       "      <th>Y_groundTruth</th>\n",
       "      <th>X_measured</th>\n",
       "      <th>Y_measured</th>\n",
       "      <th>Vx</th>\n",
       "      <th>Vy</th>\n",
       "      <th>X_error</th>\n",
       "      <th>Y_error</th>\n",
       "    </tr>\n",
       "  </thead>\n",
       "  <tbody>\n",
       "    <tr>\n",
       "      <th>0</th>\n",
       "      <td>2.0</td>\n",
       "      <td>0.000</td>\n",
       "      <td>2.000000</td>\n",
       "      <td>0.000000</td>\n",
       "      <td>5.0</td>\n",
       "      <td>50.00</td>\n",
       "      <td>0.000000</td>\n",
       "      <td>0.000000</td>\n",
       "    </tr>\n",
       "    <tr>\n",
       "      <th>1</th>\n",
       "      <td>2.0</td>\n",
       "      <td>0.000</td>\n",
       "      <td>2.410879</td>\n",
       "      <td>0.366290</td>\n",
       "      <td>5.0</td>\n",
       "      <td>50.00</td>\n",
       "      <td>0.410879</td>\n",
       "      <td>0.366290</td>\n",
       "    </tr>\n",
       "    <tr>\n",
       "      <th>2</th>\n",
       "      <td>2.5</td>\n",
       "      <td>4.951</td>\n",
       "      <td>4.936054</td>\n",
       "      <td>4.031234</td>\n",
       "      <td>5.0</td>\n",
       "      <td>49.02</td>\n",
       "      <td>2.436054</td>\n",
       "      <td>-0.919766</td>\n",
       "    </tr>\n",
       "    <tr>\n",
       "      <th>3</th>\n",
       "      <td>3.0</td>\n",
       "      <td>9.804</td>\n",
       "      <td>3.694652</td>\n",
       "      <td>10.302644</td>\n",
       "      <td>5.0</td>\n",
       "      <td>48.04</td>\n",
       "      <td>0.694652</td>\n",
       "      <td>0.498644</td>\n",
       "    </tr>\n",
       "    <tr>\n",
       "      <th>4</th>\n",
       "      <td>3.5</td>\n",
       "      <td>14.559</td>\n",
       "      <td>1.515819</td>\n",
       "      <td>14.621272</td>\n",
       "      <td>5.0</td>\n",
       "      <td>47.06</td>\n",
       "      <td>-1.984181</td>\n",
       "      <td>0.062272</td>\n",
       "    </tr>\n",
       "  </tbody>\n",
       "</table>\n",
       "</div>"
      ],
      "text/plain": [
       "   X_groundTruth  Y_groundTruth  X_measured  Y_measured   Vx     Vy   X_error  \\\n",
       "0            2.0          0.000    2.000000    0.000000  5.0  50.00  0.000000   \n",
       "1            2.0          0.000    2.410879    0.366290  5.0  50.00  0.410879   \n",
       "2            2.5          4.951    4.936054    4.031234  5.0  49.02  2.436054   \n",
       "3            3.0          9.804    3.694652   10.302644  5.0  48.04  0.694652   \n",
       "4            3.5         14.559    1.515819   14.621272  5.0  47.06 -1.984181   \n",
       "\n",
       "    Y_error  \n",
       "0  0.000000  \n",
       "1  0.366290  \n",
       "2 -0.919766  \n",
       "3  0.498644  \n",
       "4  0.062272  "
      ]
     },
     "execution_count": 2,
     "metadata": {},
     "output_type": "execute_result"
    }
   ],
   "source": [
    "data = pd.read_csv(\"./df.csv\")\n",
    "print(data.columns)\n",
    "data.head()"
   ]
  },
  {
   "cell_type": "code",
   "execution_count": 27,
   "metadata": {},
   "outputs": [
    {
     "name": "stdout",
     "output_type": "stream",
     "text": [
      "acceleration : -9.8\n",
      "acceleration : -9.8\n",
      "acceleration : -9.8\n",
      "acceleration : -9.8\n",
      "acceleration : -9.8\n",
      "acceleration : -9.8\n",
      "acceleration : -9.8\n",
      "acceleration : -9.8\n",
      "acceleration : -9.8\n",
      "acceleration : -9.8\n",
      "acceleration : -9.8\n",
      "acceleration : -9.8\n",
      "acceleration : -9.8\n",
      "acceleration : -9.8\n",
      "acceleration : -9.8\n",
      "acceleration : -9.8\n",
      "acceleration : -9.8\n"
     ]
    }
   ],
   "source": [
    "ff = data.Vy.tolist()\n",
    "for i in range(3,20):\n",
    "    print(\"acceleration :\",round((ff[i]-ff[i-1])/0.1,3))"
   ]
  },
  {
   "cell_type": "markdown",
   "metadata": {},
   "source": [
    "# 3. Kalman Filter for 2D Trajectory estimation. \n",
    "### Following the flow chart indicated in 1 The workflow will be divided into 8 different secitons. \n",
    "+ ### 3.0 Initialize data. \n",
    "+ ### 3.1 State Matrix $X_k$\n",
    "+ ### 3.2 Initial process covariance matrix $P_{k_i}$\n",
    "+ ### 3.3 Process to the covariance matrix $P_{k_p}$\n",
    "+ ### 3.4 Kalman Gain $k$\n",
    "+ ### 3.5 Current observation $Y$\n",
    "+ ### 3.6 Update current state matrix based on Kalman Gain $X_k$\n",
    "+ ### 3.7 Update the current process covariance matrix $P_k$\n",
    "+ ### 3.8 Process to the next iteration.\n"
   ]
  },
  {
   "cell_type": "markdown",
   "metadata": {},
   "source": [
    "---\n",
    "## 3.0 First, we intialize data "
   ]
  },
  {
   "cell_type": "code",
   "execution_count": 3,
   "metadata": {},
   "outputs": [],
   "source": [
    "x_0 = 50.\n",
    "y_0 = 0.0\n",
    "\n",
    "v_x0 = 5.0\n",
    "v_y0 = 50.0\n",
    "\n",
    "delta_t = 0.1 # sec\n",
    "\n",
    "acc_x = 0.0\n",
    "acc_y = -9.8\n",
    "\n",
    "error_x = 10.0\n",
    "error_y = 10.0\n",
    "\n",
    "error_vx = 5.0\n",
    "error_vy = 10.0"
   ]
  },
  {
   "cell_type": "markdown",
   "metadata": {},
   "source": [
    "## 3.1. Then, we define the State Matrix \n",
    "## $$ X_{k_p}  = A X_{k-1} + B U_{k} + W_k $$\n",
    "Where $X$ is the state matrix, $k$ represents the time iteration, $U$ is the acceleration matrix, $A$ and $B$ are adjustment matrices. \n",
    "#### - In case of 2D matrix : \n",
    "#### $$ A = \\begin{vmatrix} \n",
    "1 & 0 & \\Delta T & 0 \\\\\n",
    "0 & 1 & 0 & \\Delta T \\\\\n",
    "0 & 0 & 1 & 0 \\\\\n",
    "0 & 0 & 0 & 1 \n",
    "\\end{vmatrix}, X = \\begin{vmatrix} \n",
    "X_{pos} \\\\\n",
    "Y_{pos} \\\\\n",
    "X_{vel} \\\\\n",
    "Y_{vel} \n",
    "\\end{vmatrix} $$\n",
    "\n",
    "While\n",
    "$$ B = \\begin{vmatrix} \n",
    "\\frac{1}{2} \\Delta t^2 & 0\\\\\n",
    "0 & \\frac{1}{2} \\Delta t^2  \\\\ \n",
    "\\Delta t  & 0  \\\\ \n",
    "a_{y} & \\Delta t  \\\\ \n",
    "\\end{vmatrix},U = \\begin{vmatrix} \n",
    "a_{x} \\\\\n",
    "a_{y} \\\\ \n",
    "\\end{vmatrix} $$\n",
    "\n",
    "#### - In case of 3D matrix : \n",
    "#### $$ A = \\begin{vmatrix} \n",
    "1 & 0 & 0 & \\Delta T & 0 & 0 \\\\\n",
    "0 & 1 & 0 & 0 & \\Delta T & 0 \\\\\n",
    "0 & 0 & 1 & 0 & 0 & \\Delta T \\\\\n",
    "0 & 0 & 0 & 1 & 0 & 0 \\\\\n",
    "0 & 0 & 0 & 0 & 1 & 0\\\\\n",
    "0 & 0 & 0 & 0 & 0 & 1\n",
    "\\end{vmatrix}, X = \\begin{vmatrix} \n",
    "X_{pos} \\\\\n",
    "Y_{pos} \\\\\n",
    "Z_{pos} \\\\\n",
    "X_{vel} \\\\\n",
    "Y_{vel}\\\\\n",
    "Z_{vel} \n",
    "\\end{vmatrix} $$\n",
    "\n",
    "In this tutorial, we only consider 2d problem. "
   ]
  },
  {
   "cell_type": "code",
   "execution_count": 14,
   "metadata": {},
   "outputs": [],
   "source": [
    "def X_kp(X, U, W = None, delta_t = 1.0):\n",
    "    \"\"\"\n",
    "    X_kp is the predicted state matrix, \n",
    "    @param : X : is the numpy arry of shape (4, 1) contains the initial [[xpos], [ypos], [xvel], [yvel]]\n",
    "    @param : U : is the acceleration matrix, of shape (4, 4)\n",
    "    @param : W : is the error matrix.\n",
    "    @param : delta_t : is the time step. \n",
    "    \n",
    "    return : Current initial state matrix. \n",
    "    \"\"\"\n",
    "    A = np.identity(4)\n",
    "    A[0, 2] = delta_t\n",
    "    A[1, 3] = delta_t\n",
    "    \n",
    "    B = np.zeros((4, 2))\n",
    "    B[0,0] = 0.5*delta_t*delta_t    \n",
    "    B[1,1] = 0.5*delta_t*delta_t      \n",
    "    B[2,0] = delta_t\n",
    "    B[3,1] = delta_t\n",
    "    \n",
    "    AX = np.dot(A, X)\n",
    "    BU = np.dot(B, U)\n",
    "    \n",
    "    if W == None:\n",
    "        W = np.zeros(4,1)\n",
    "        \n",
    "    return AX + BU + W\n"
   ]
  },
  {
   "cell_type": "markdown",
   "metadata": {},
   "source": [
    "## 3.2 Initial process covariance matrix $P_{{k}}$\n",
    "This initial declaration of the process covariance matrix only occurs once. Then this step will be passed.\n",
    "## $$ P_{k} = A P_{k-1}A^T + Q_k $$\n",
    "$A$ is an adjustement matrix similar to that in the previous equation 3.1, while $A^T$ is its transpose. $Q_k$ is error resource.\n",
    "$$ A = \\begin{vmatrix} \n",
    "1 & 0 & \\Delta T & 0 \\\\\n",
    "0 & 1 & 0 & \\Delta T \\\\\n",
    "0 & 0 & 1 & 0 \\\\\n",
    "0 & 0 & 0 & 1 \n",
    "\\end{vmatrix}, A^T = \\begin{vmatrix} \n",
    "1 & 0 & 0 & 0 \\\\\n",
    "0 & 1 & 0 & 0 \\\\\n",
    "\\Delta T & 0 & 1 & 0 \\\\\n",
    "0 & \\Delta T & 0 & 1 \n",
    "\\end{vmatrix}$$ \n",
    "\n",
    "Covariance Matrix : $$ P_{k-1} = \\begin{vmatrix} \n",
    "{X_{k-1}}^2        & X_{k-1}.Y_{k-1}     & X_{k-1}.V_{X_{k-1}} & X_{k-1}.V_{Y_{k-1}} \\\\\n",
    "X_{k-1}.Y_{k-1}    & {Y_{k-1}}^2         & Y_{k-1}.V_{X_{k-1}} & Y_{k-1}.V_{Y_{k-1}} \\\\\n",
    "X_{k-1}.V_{X_{k-1}}& Y_{k-1}.V_{X_{k-1}} & {V_{X_{k-1}}}^2     & V_{X_{k-1}}.V_{Y_{k-1}} \\\\\n",
    "X_{k-1}.V_{Y_{k-1}}& Y_{k-1}.V_{Y_{k-1}} & V_{X_{k-1}}.V_{Y_{k-1}} & {V_{Y_{k-1}}}^2 \n",
    "\\end{vmatrix}$$ "
   ]
  },
  {
   "cell_type": "code",
   "execution_count": null,
   "metadata": {},
   "outputs": [],
   "source": [
    "# initial conditions\n",
    "x_0 = 200. #m --> the initial x position\n",
    "y_0 = 500. #m --> the initial y position\n",
    "\n",
    "v_0x = 50. #m/s --> the initial x velocity. \n",
    "v_0y = 20. #m/s --> the initial y velocity\n",
    "\n",
    "#initial conditions.\n",
    "#    Acceleration. \n",
    "a_x = 2.   #m/sec^2\n",
    "a_y = 2.   #m/sec^2\n",
    "\n",
    "#Delta time --> 1 sec\n",
    "d_t = 1.   #sec\n",
    "\n",
    "#The observation error.\n",
    "#    Velocity error. \n",
    "v_x = 10.  #m/s\n",
    "v_y = 10. #m/s\n",
    "\n",
    "#\n",
    "dx = 10.  #m\n",
    "dy = 10.  #m "
   ]
  },
  {
   "cell_type": "code",
   "execution_count": 35,
   "metadata": {},
   "outputs": [
    {
     "name": "stderr",
     "output_type": "stream",
     "text": [
      "/home/mahmoud/anaconda3/lib/python3.7/site-packages/ipykernel_launcher.py:2: RuntimeWarning: Degrees of freedom <= 0 for slice\n",
      "  \n"
     ]
    },
    {
     "data": {
      "text/plain": [
       "array([[nan, nan, nan, nan],\n",
       "       [nan, nan, nan, nan],\n",
       "       [nan, nan, nan, nan],\n",
       "       [nan, nan, nan, nan]])"
      ]
     },
     "execution_count": 35,
     "metadata": {},
     "output_type": "execute_result"
    }
   ],
   "source": [
    "aa = np.array([[2,4,5,2]]).T\n",
    "dd = np.cov(aa)\n",
    "dd"
   ]
  },
  {
   "cell_type": "code",
   "execution_count": 271,
   "metadata": {},
   "outputs": [
    {
     "data": {
      "text/plain": [
       "'### 2. Process Covariance Matrix\\n#### $$ P_{k_P} = A P_{k-1}A^T + Q_k $$\\n### 3. Kalman Gain\\n#### $$K = \\x0crac{P_{k_p}H^T}{H P_{k_p} H^T + R}$$\\n$K$ is the Kalman gain, $H$ is an adjusting matrix and $R$ is the observation error (usually caused by sensor noise).\\n#### $$X_k = X_{k_p} + K [Y-H X_k] $$\\n$X_k$ in this case is the new calculated state matrix after calculating Kalman Gain. \\n#### $$ P_k = (I - K H)P_{k_p} $$\\n### 4. Sensor Noise Covariance Matrix\\n'"
      ]
     },
     "execution_count": 271,
     "metadata": {},
     "output_type": "execute_result"
    }
   ],
   "source": [
    "\"\"\"### 2. Process Covariance Matrix\n",
    "#### $$ P_{k_P} = A P_{k-1}A^T + Q_k $$\n",
    "### 3. Kalman Gain\n",
    "#### $$K = \\frac{P_{k_p}H^T}{H P_{k_p} H^T + R}$$\n",
    "$K$ is the Kalman gain, $H$ is an adjusting matrix and $R$ is the observation error (usually caused by sensor noise).\n",
    "#### $$X_k = X_{k_p} + K [Y-H X_k] $$\n",
    "$X_k$ in this case is the new calculated state matrix after calculating Kalman Gain. \n",
    "#### $$ P_k = (I - K H)P_{k_p} $$\n",
    "### 4. Sensor Noise Covariance Matrix\n",
    "\"\"\""
   ]
  }
 ],
 "metadata": {
  "kernelspec": {
   "display_name": "Python 3",
   "language": "python",
   "name": "python3"
  },
  "language_info": {
   "codemirror_mode": {
    "name": "ipython",
    "version": 3
   },
   "file_extension": ".py",
   "mimetype": "text/x-python",
   "name": "python",
   "nbconvert_exporter": "python",
   "pygments_lexer": "ipython3",
   "version": "3.7.1"
  }
 },
 "nbformat": 4,
 "nbformat_minor": 2
}
